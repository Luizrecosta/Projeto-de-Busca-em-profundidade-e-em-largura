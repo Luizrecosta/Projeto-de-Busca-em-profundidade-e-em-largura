{
  "nbformat": 4,
  "nbformat_minor": 0,
  "metadata": {
    "colab": {
      "provenance": []
    },
    "kernelspec": {
      "name": "python3",
      "display_name": "Python 3"
    },
    "language_info": {
      "name": "python"
    }
  },
  "cells": [
    {
      "cell_type": "code",
      "source": [
        "#\n",
        "# Implementa um min-heap\n",
        "# (uma arvore binaria em que o menor elemento sempre esta na raiz)\n",
        "#\n",
        "# Elementos devem ser objetos que sao comparados pela propriedade (variavel) f\n",
        "#\n",
        "# Ref.: \"Introduction to Algorithms\" - Cormen, Leiserson, Rivest & Stein\n",
        "# 3rd edition, MIT Press, 2009.\n",
        "#\n",
        "\n",
        "class MinHeap:\n",
        "    def __init__(self):\n",
        "        self.contents = []\n",
        "        self.capacity = 0\n",
        "        self.size = 0\n",
        "\n",
        "    # remove o menor elemento do heap e reestabelece a ordem correta\n",
        "    def remove_min(self):\n",
        "        if self.size < 1:\n",
        "            return None\n",
        "\n",
        "        # guarda o menor elemento e coloca o ultimo elemento na raiz\n",
        "        minimo = self.contents[0]\n",
        "        self.contents[0] = self.contents[self.size-1]\n",
        "        self.size -= 1\n",
        "\n",
        "        # reestabelece a propriedade do min-heap\n",
        "        self.__min_heapify(0)\n",
        "\n",
        "        return minimo\n",
        "\n",
        "    def adiciona(self, node):\n",
        "        indice = self.size\n",
        "        if self.capacity == self.size:\n",
        "            self.contents.append(node)\n",
        "            self.capacity += 1\n",
        "        self.__insert(indice, node)\n",
        "        self.size += 1\n",
        "\n",
        "\n",
        "    # Metodos privados\n",
        "    def __pai(self, i):\n",
        "        return (i - 1) // 2\n",
        "\n",
        "    def __filho_esquerdo(self, i):\n",
        "        return i * 2 + 1\n",
        "\n",
        "    def __filho_direito(self, i):\n",
        "        return i * 2 + 2\n",
        "\n",
        "    def __swap(self, i, j):\n",
        "        self.contents[i], self.contents[j] = self.contents[j], self.contents[i]\n",
        "\n",
        "    def __min_heapify(self, i):\n",
        "        l = self.__filho_esquerdo(i)\n",
        "        r = self.__filho_direito(i)\n",
        "\n",
        "        # encontra qual o menor dos tres nos: i, l ou r\n",
        "        minimo = i\n",
        "\n",
        "        if l < self.size and self.contents[i].f > self.contents[l].f:\n",
        "            minimo = l\n",
        "\n",
        "        if r < self.size and self.contents[minimo].f > self.contents[r].f:\n",
        "            minimo = r\n",
        "\n",
        "        # se i nao for o menor no, troca de lugar com o menor e continua\n",
        "        # recursivamente\n",
        "        if minimo != i:\n",
        "            self.__swap(i, minimo)\n",
        "            self.__min_heapify(minimo)\n",
        "\n",
        "    def __insert(self, i, node):\n",
        "        self.contents[i] = node\n",
        "        while i > 0 and self.contents[self.__pai(i)].f > self.contents[i].f:\n",
        "            self.__swap(i, self.__pai(i))\n",
        "            i = self.__pai(i)\n",
        "\n",
        "\n",
        "# uma fila de prioridade que retorna os nos de valor minimo primeiro\n",
        "class PriorityQueue:\n",
        "    def __init__(self):\n",
        "        self.heap = MinHeap()\n",
        "\n",
        "    def remove_min(self):\n",
        "        self.heap.remove_min()\n",
        "\n",
        "    def adiciona(self, node):\n",
        "        self.heap.adiciona(node)\n",
        "\n",
        "\n",
        "# Ordena uma lista de numeros usando um heap,\n",
        "# para testar a implementacao\n",
        "def heap_sort(numeros):\n",
        "    heap = MinHeap()\n",
        "\n",
        "    class NoNumerico:\n",
        "        def __init__(self, n):\n",
        "            self.f = n\n",
        "\n",
        "    for num in numeros:\n",
        "        heap.adiciona(NoNumerico(num))\n",
        "\n",
        "    resultado = []\n",
        "    while heap.size > 0:\n",
        "        n = heap.remove_min()\n",
        "        resultado.append(n.f)\n",
        "\n",
        "    return resultado"
      ],
      "metadata": {
        "id": "xzULBp2V1d8-"
      },
      "execution_count": 42,
      "outputs": []
    },
    {
      "cell_type": "code",
      "execution_count": 43,
      "metadata": {
        "id": "hSM_mW8JxCfK"
      },
      "outputs": [],
      "source": [
        "def acao(destino, custo):\n",
        "    return { 'destino': destino, 'custo': custo }\n",
        "\n",
        "estados_romenia = [\n",
        "    { 'estado': 'Arad',\n",
        "      'acoes': [acao('Zerind', 75), acao('Sibiu', 140), acao('Timisoara', 118)] },\n",
        "\n",
        "    { 'estado': 'Zerind',\n",
        "      'acoes': [acao('Arad', 75), acao('Oradea', 71)] },\n",
        "\n",
        "    { 'estado': 'Timisoara',\n",
        "      'acoes': [acao('Arad', 118), acao('Lugoj', 111)] },\n",
        "\n",
        "    { 'estado': 'Sibiu',\n",
        "      'acoes': [acao('Arad', 140), acao('Oradea', 151), acao('Fagaras', 99), acao('Rimnicu Vilcea', 80)] },\n",
        "\n",
        "    { 'estado': 'Oradea',\n",
        "      'acoes': [acao('Zerind', 71), acao('Sibiu', 151)] },\n",
        "\n",
        "    { 'estado': 'Lugoj',\n",
        "      'acoes': [acao('Timisoara', 111), acao('Mehadia', 70)] },\n",
        "\n",
        "    { 'estado': 'Mehadia',\n",
        "      'acoes': [acao('Lugoj', 70), acao('Drobeta', 75)] },\n",
        "\n",
        "    { 'estado': 'Drobeta',\n",
        "      'acoes': [acao('Mehadia', 75), acao('Craiova', 120)] },\n",
        "\n",
        "    { 'estado': 'Craiova',\n",
        "      'acoes': [acao('Drobeta', 120), acao('Rimnicu Vilcea', 146), acao('Pitesti', 138)] },\n",
        "\n",
        "    { 'estado': 'Rimnicu Vilcea',\n",
        "      'acoes': [acao('Sibiu', 80), acao('Craiova', 146), acao('Pitesti', 97)] },\n",
        "\n",
        "    { 'estado': 'Fagaras',\n",
        "      'acoes': [acao('Sibiu', 99), acao('Bucharest', 211)] },\n",
        "\n",
        "    { 'estado': 'Pitesti',\n",
        "      'acoes': [acao('Rimnicu Vilcea', 97), acao('Craiova', 138), acao('Bucharest', 101)] },\n",
        "\n",
        "    { 'estado': 'Giurgiu',\n",
        "      'acoes': [acao('Bucharest', 90)] },\n",
        "\n",
        "    { 'estado': 'Bucharest',\n",
        "      'acoes': [acao('Fagaras', 211), acao('Pitesti', 101), acao('Giurgiu', 90), acao('Urziceni', 85)] },\n",
        "\n",
        "    { 'estado': 'Urziceni',\n",
        "      'acoes': [acao('Bucharest', 85), acao('Vaslui', 142), acao('Hirsova', 98)] },\n",
        "\n",
        "    { 'estado': 'Hirsova',\n",
        "      'acoes': [acao('Urziceni', 98), acao('Eforie', 86)] },\n",
        "\n",
        "    { 'estado': 'Eforie',\n",
        "      'acoes': [acao('Hirsova', 86)] },\n",
        "\n",
        "    { 'estado': 'Vaslui',\n",
        "      'acoes': [acao('Urziceni', 142), acao('Iasi', 92)] },\n",
        "\n",
        "    { 'estado': 'Iasi',\n",
        "      'acoes': [acao('Vaslui', 92), acao('Neamt', 87)] },\n",
        "\n",
        "    { 'estado': 'Neamt',\n",
        "      'acoes': [acao('Iasi', 87)] }\n",
        "]\n",
        "\n"
      ]
    },
    {
      "cell_type": "markdown",
      "source": [
        "#Questão 1\n"
      ],
      "metadata": {
        "id": "ytfqZFRS2mTn"
      }
    },
    {
      "cell_type": "code",
      "source": [
        "import heapq\n",
        "\n",
        "class Node:\n",
        "    def __init__(self, estado, pai=None, g=0, h=0):\n",
        "        self.estado = estado\n",
        "        self.pai = pai\n",
        "        self.g = g  # custo do caminho do início até o nó\n",
        "        self.h = h  # estimativa heurística de custo do nó até o objetivo\n",
        "        self.f = g + h  # custo total estimado (f = g + h)\n",
        "\n",
        "    def __eq__(self, outro):\n",
        "        return self.estado == outro.estado\n",
        "\n",
        "    def __lt__(self, outro):\n",
        "        return self.f < outro.f\n",
        "\n",
        "class PriorityQueue:\n",
        "    def __init__(self):\n",
        "        self.elements = []\n",
        "\n",
        "    def adiciona(self, item, prioridade):\n",
        "        heapq.heappush(self.elements, (prioridade, item))\n",
        "\n",
        "    def remove_min(self):\n",
        "        if self.elements:\n",
        "            return heapq.heappop(self.elements)[1]\n",
        "        return None\n",
        "\n",
        "    def vazia(self):\n",
        "        return len(self.elements) == 0\n",
        "\n",
        "def a_star(inicio, objetivo, heuristica, estados_romenia):\n",
        "    fronteira = PriorityQueue()\n",
        "    fronteira.adiciona(Node(inicio, None, 0, heuristica[inicio]), 0)\n",
        "    explorado = set()\n",
        "\n",
        "    while not fronteira.vazia():\n",
        "        node_atual = fronteira.remove_min()\n",
        "\n",
        "        # Se removeu None, a fronteira estava vazia\n",
        "        if node_atual is None:\n",
        "            break\n",
        "\n",
        "        # Verifica se o estado atual é o objetivo\n",
        "        if node_atual.estado == objetivo:\n",
        "            caminho = []\n",
        "            lista_custos = node_atual.g\n",
        "            while node_atual:\n",
        "                caminho.append(node_atual.estado)\n",
        "                node_atual = node_atual.pai\n",
        "            return caminho[::-1],lista_custos  # caminho da origem até o objetivo e o custo total\n",
        "\n",
        "        explorado.add(node_atual.estado)\n",
        "\n",
        "        # Explora as ações do estado atual\n",
        "        for acao in get_acoes(node_atual.estado, estados_romenia):\n",
        "            estado_vizinho, custo = acao\n",
        "\n",
        "            if estado_vizinho in explorado:\n",
        "                continue\n",
        "\n",
        "            g_vizinho = node_atual.g + int(custo)\n",
        "            h_vizinho = heuristica[estado_vizinho]\n",
        "            node_vizinho = Node(estado_vizinho, node_atual, g_vizinho, h_vizinho)\n",
        "\n",
        "            # Verificar se o nó vizinho já está na fronteira\n",
        "            fronteira.adiciona(node_vizinho, node_vizinho.f)\n",
        "\n",
        "    return None  # Se não encontrar o caminho\n",
        "\n",
        "# Função para obter as ações (vizinhos) de um estado\n",
        "def get_acoes(estado, estados_romenia):\n",
        "    custo_geral = 0\n",
        "    for cidade in estados_romenia:\n",
        "        if cidade['estado'] == estado:\n",
        "            # Calculate custo_geral here using a generator expression\n",
        "            return [(acao['destino'], int(acao['custo'])) for acao in cidade['acoes']]\n",
        "    return []\n"
      ],
      "metadata": {
        "id": "aTLdcewE2owO"
      },
      "execution_count": 44,
      "outputs": []
    },
    {
      "cell_type": "markdown",
      "source": [
        "#Questão 2: Aplicando a heuristica em linha reta"
      ],
      "metadata": {
        "id": "X7yUmbiNzqgC"
      }
    },
    {
      "cell_type": "code",
      "source": [
        "heuristica = {\n",
        "    'Arad': 366, 'Zerind': 374, 'Timisoara': 329, 'Sibiu': 253, 'Oradea': 380,\n",
        "    'Lugoj': 244, 'Mehadia': 241, 'Drobeta': 242, 'Craiova': 160, 'Rimnicu Vilcea': 193,\n",
        "    'Fagaras': 178, 'Pitesti': 98, 'Giurgiu': 77, 'Bucharest': 0, 'Urziceni': 80,\n",
        "    'Hirsova': 151, 'Eforie': 161, 'Vaslui': 199, 'Iasi': 226, 'Neamt': 234\n",
        "}\n",
        "\n",
        "resultado, custoo= a_star('Arad', 'Bucharest', heuristica, estados_romenia)\n",
        "print(\"Caminho encontrado:\", resultado)\n",
        "print(\"Custo geral:\", custoo)\n",
        "\n"
      ],
      "metadata": {
        "colab": {
          "base_uri": "https://localhost:8080/"
        },
        "id": "aNsvCROj02cf",
        "outputId": "6de05b1e-b75f-4dac-daf1-8bd9c421b27a"
      },
      "execution_count": 45,
      "outputs": [
        {
          "output_type": "stream",
          "name": "stdout",
          "text": [
            "Caminho encontrado: ['Arad', 'Sibiu', 'Rimnicu Vilcea', 'Pitesti', 'Bucharest']\n",
            "Custo geral: 418\n"
          ]
        }
      ]
    },
    {
      "cell_type": "markdown",
      "source": [
        "#Questão 3\n"
      ],
      "metadata": {
        "id": "Pf_zWb1Y4WlF"
      }
    },
    {
      "cell_type": "code",
      "source": [
        "resultado1,custo1 = a_star('Zerind', 'Bucharest', heuristica, estados_romenia)\n",
        "print(\"Caminho encontrado:\", resultado1)\n",
        "print(\"Custo geral:\", custo1)\n",
        "print()\n",
        "resultado2,custo2 = a_star('Timisoara', 'Bucharest', heuristica, estados_romenia)\n",
        "print(\"Caminho encontrado:\", resultado2)\n",
        "print(\"Custo geral:\", custo2)\n",
        "print()\n",
        "resultado3,custo3 = a_star('Sibiu', 'Bucharest', heuristica, estados_romenia)\n",
        "print(\"Caminho encontrado:\", resultado3)\n",
        "print(\"Custo geral:\", custo3)"
      ],
      "metadata": {
        "colab": {
          "base_uri": "https://localhost:8080/"
        },
        "id": "ti9Gaqs42Kcw",
        "outputId": "ec3ea34a-8c41-44fa-f301-93d6cedf75ce"
      },
      "execution_count": 46,
      "outputs": [
        {
          "output_type": "stream",
          "name": "stdout",
          "text": [
            "Caminho encontrado: ['Zerind', 'Arad', 'Sibiu', 'Rimnicu Vilcea', 'Pitesti', 'Bucharest']\n",
            "Custo geral: 493\n",
            "\n",
            "Caminho encontrado: ['Timisoara', 'Arad', 'Sibiu', 'Rimnicu Vilcea', 'Pitesti', 'Bucharest']\n",
            "Custo geral: 536\n",
            "\n",
            "Caminho encontrado: ['Sibiu', 'Rimnicu Vilcea', 'Pitesti', 'Bucharest']\n",
            "Custo geral: 278\n"
          ]
        }
      ]
    },
    {
      "cell_type": "markdown",
      "source": [
        "Questão 4\n"
      ],
      "metadata": {
        "id": "MZPFaTOh5_iG"
      }
    },
    {
      "cell_type": "code",
      "source": [
        "resultado4, custo4 = a_star('Arad', 'Eforie', heuristica, estados_romenia)\n",
        "print(\"Caminho encontrado:\", resultado4)\n",
        "print(\"Custo geral:\", custo4)\n",
        "print()\n",
        "\n",
        "resultado5, custo5 = a_star('Arad', 'Rimnicu Vilcea', heuristica, estados_romenia)\n",
        "print(\"Caminho encontrado:\", resultado5)\n",
        "print(\"Custo geral:\", custo5)\n",
        "\n"
      ],
      "metadata": {
        "colab": {
          "base_uri": "https://localhost:8080/"
        },
        "id": "MnC7AxFM5xF0",
        "outputId": "30102853-6540-432c-b47a-33a3a2ca483c"
      },
      "execution_count": 47,
      "outputs": [
        {
          "output_type": "stream",
          "name": "stdout",
          "text": [
            "Caminho encontrado: ['Arad', 'Sibiu', 'Rimnicu Vilcea', 'Pitesti', 'Bucharest', 'Urziceni', 'Hirsova', 'Eforie']\n",
            "Custo geral: 687\n",
            "\n",
            "Caminho encontrado: ['Arad', 'Sibiu', 'Rimnicu Vilcea']\n",
            "Custo geral: 220\n"
          ]
        }
      ]
    },
    {
      "cell_type": "markdown",
      "source": [
        "#Questão 5\n"
      ],
      "metadata": {
        "id": "p-7zanHx6jU3"
      }
    },
    {
      "cell_type": "code",
      "source": [
        "import heapq\n",
        "\n",
        "def a_star(maze, start, goal):\n",
        "    def heuristic(a, b):\n",
        "        return abs(a[0] - b[0]) + abs(a[1] - b[1])  # Distância de Manhattan, dado duas cordenadas (x1,y1) e (x2,y2), a heuristica |x1-x2| + |y1-y2|\n",
        "\n",
        "    x,y=goal\n",
        "\n",
        "    rows, cols = len(maze), len(maze[0]) #quantidade de linhas e colunas\n",
        "\n",
        "    if(x<0 or x>=rows or y<0 or y>=cols):\n",
        "      print(\"Não é possivel pois a chegada está fora do labirinto\")\n",
        "      return None,0\n",
        "\n",
        "    if(maze[x][y]==1):\n",
        "      print(\"Não é possivel pois a chegada é uma parede\")\n",
        "      return None,0\n",
        "\n",
        "\n",
        "    open_list = [] #lista dos caminhos explorados\n",
        "    heapq.heappush(open_list, (0, start)) #adiciona o primeiro caminho à lista (0,0)\n",
        "    g_score = {start: 0} #armazena o menor o custo total\n",
        "    came_from = {} #De onde o nó vem\n",
        "\n",
        "    while open_list:\n",
        "        _, current = heapq.heappop(open_list) #retira o menor na lista de prioridade\n",
        "\n",
        "        if current == goal: #verifica se é o nó é o objetivo\n",
        "            path = []\n",
        "            while current in came_from:\n",
        "                path.append(current)\n",
        "                current = came_from[current]\n",
        "            return path[::-1], g_score[goal]\n",
        "\n",
        "        for dx, dy in [(-1, 0), (1, 0), (0, -1), (0, 1)]: #Possiveis caminhos possiveis, esquerda,direita,cima,baixo\n",
        "            neighbor = (current[0] + dx, current[1] + dy)\n",
        "\n",
        "            if 0 <= neighbor[0] < rows and 0 <= neighbor[1] < cols and maze[neighbor[0]][neighbor[1]] == 0: #Se não ultrapassa os limites e se o caminho é livre (0)\n",
        "                tentative_g_score = g_score[current] + 1 #Ele adiciona os custos\n",
        "\n",
        "                if tentative_g_score < g_score.get(neighbor, float('inf')): #Pega o custo geral para cada vizinho e vai a partir dele\n",
        "                    came_from[neighbor] = current\n",
        "                    g_score[neighbor] = tentative_g_score\n",
        "                    f_score = tentative_g_score + heuristic(neighbor, goal)\n",
        "                    heapq.heappush(open_list, (f_score, neighbor))\n",
        "\n",
        "    return None\n",
        "\n",
        "# Exemplo de labirinto\n",
        "maze = [\n",
        "    [0, 1, 0, 0, 0, 0, 0, 0, 0],\n",
        "    [0, 1, 0, 0, 0, 0, 0, 0, 0],\n",
        "    [0, 1, 0, 0, 0, 0, 0, 0, 0],\n",
        "    [0, 1, 0, 1, 0, 0, 0, 0, 0],\n",
        "    [0, 0, 0, 1, 0, 0, 0, 0, 0],\n",
        "    [1, 1, 0, 1, 0, 0, 0, 0, 0],\n",
        "    [0, 0, 0, 1, 0, 0, 0, 0, 0]\n",
        "] #O labirinto\n",
        "\n",
        "\n",
        "start = (0, 0) #começo\n",
        "goal = (6, 7) #Final\n",
        "path,custo = a_star(maze, start, goal)\n",
        "print(\"Caminho:\", path) #mostra o caminho\n",
        "print(\"Custo total:\", custo)"
      ],
      "metadata": {
        "id": "321quEXa6k4r",
        "colab": {
          "base_uri": "https://localhost:8080/"
        },
        "outputId": "0fe9de9b-fa77-457f-eb08-ca8143e96465"
      },
      "execution_count": 88,
      "outputs": [
        {
          "output_type": "stream",
          "name": "stdout",
          "text": [
            "Caminho: [(1, 0), (2, 0), (3, 0), (4, 0), (4, 1), (4, 2), (3, 2), (2, 2), (2, 3), (2, 4), (2, 5), (2, 6), (2, 7), (3, 7), (4, 7), (5, 7), (6, 7)]\n",
            "Custo total: 17\n"
          ]
        }
      ]
    },
    {
      "cell_type": "code",
      "source": [],
      "metadata": {
        "id": "Di543HzGg5y7"
      },
      "execution_count": null,
      "outputs": []
    }
  ]
}